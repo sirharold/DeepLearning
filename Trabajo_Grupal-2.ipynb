{
  "cells": [
    {
      "cell_type": "markdown",
      "id": "4ff55140-816b-4ba8-a776-454c6f2732af",
      "metadata": {
        "id": "4ff55140-816b-4ba8-a776-454c6f2732af"
      },
      "source": [
        "# Actividad en Grupo: Análisis de Comentarios de Clientes Utilizando Redes Neuronales Recurrentes (RNN)\n",
        "\n",
        "## Escenario\n",
        "Su equipo ha sido contratado por una empresa de turismo que desea categorizar automáticamente los comentarios de sus clientes en función de los sentimientos: positivos, neutrales o negativos. La empresa ha proporcionado un conjunto de datos de comentarios y clasificaciones (rating) de clientes para que su equipo lo analice.\n",
        "\n",
        "## Objetivo\n",
        "Utilizar Redes Neuronales Recurrentes (RNN) para crear un modelo de análisis de sentimientos. Su tarea también implica interpretar los resultados para obtener conocimientos empresariales accionables.\n",
        "\n",
        "## Tareas\n",
        "\n",
        "1. **Exploración de Datos**\n",
        "   - Revise una muestra de comentarios. ¿Cuáles son los temas o patrones comunes?\n",
        "   - Visualice la distribución de longitudes de los comentarios.\n",
        "   - Visualice la distribución de las clasificaciones (positivo, neutro, negativo).\n",
        "\n"
      ]
    },
    {
      "cell_type": "code",
      "execution_count": 27,
      "id": "d413012a",
      "metadata": {},
      "outputs": [
        {
          "name": "stdout",
          "output_type": "stream",
          "text": [
            "   ID                                 title  rating  \\\n",
            "0   0                   IMPOSIBLE DESCANSAR       2   \n",
            "1   1          No es oro todo lo que reluce       3   \n",
            "2   2        Un buen hotel con mucho ruido.       3   \n",
            "3   3  SIN CALEFACCIÓN OPERATIVA Y CON FRÍO       2   \n",
            "4   4             Deja bastante que desear.       2   \n",
            "\n",
            "                                         review_text  \\\n",
            "0  El fin de semana mi pareja y yo hicimos una re...   \n",
            "1  El hotel en general está bien, las habtiacione...   \n",
            "2  El hotel es moderno, amplio y limpio, pero no ...   \n",
            "3  Calefacción averiada o no operativa. Se coment...   \n",
            "4  Este hotel ha bajado notoriamente su categoria...   \n",
            "\n",
            "                                location                hotel  label  \n",
            "0  Seville_Province_of_Seville_Andalucia  Hotel_Rey_Alfonso_X      0  \n",
            "1  Seville_Province_of_Seville_Andalucia  Hotel_Rey_Alfonso_X      3  \n",
            "2  Seville_Province_of_Seville_Andalucia  Hotel_Rey_Alfonso_X      3  \n",
            "3  Seville_Province_of_Seville_Andalucia        Melia_Sevilla      0  \n",
            "4  Seville_Province_of_Seville_Andalucia        Melia_Sevilla      0  \n"
          ]
        }
      ],
      "source": [
        "import pandas as pd\n",
        "import matplotlib.pyplot as plt\n",
        "import seaborn as sns\n",
        "\n",
        "# Cargar los datos desde el archivo CSV\n",
        "datos = pd.read_csv('Datos.csv')\n",
        "\n",
        "# Mostrar las primeras filas para entender la estructura de los datos\n",
        "print(datos.head())\n"
      ]
    },
    {
      "cell_type": "code",
      "execution_count": 28,
      "id": "c6ff749a",
      "metadata": {},
      "outputs": [
        {
          "name": "stdout",
          "output_type": "stream",
          "text": [
            "ID               0\n",
            "title            0\n",
            "rating           0\n",
            "review_text      0\n",
            "location       796\n",
            "hotel          796\n",
            "label            0\n",
            "dtype: int64\n",
            "ID             0\n",
            "title          0\n",
            "rating         0\n",
            "review_text    0\n",
            "location       0\n",
            "hotel          0\n",
            "label          0\n",
            "dtype: int64\n"
          ]
        }
      ],
      "source": [
        "# Verificar si hay valores nulos en el dataset\n",
        "print(datos.isnull().sum())\n",
        "\n",
        "# Eliminar filas con valores nulos en las columnas críticas\n",
        "columnas_criticas = ['ID', 'title', 'rating', 'review_text', 'location', 'hotel']\n",
        "datos_limpios = datos.dropna(subset=columnas_criticas)\n",
        "\n",
        "# Verificar nuevamente si hay valores nulos\n",
        "print(datos_limpios.isnull().sum())\n"
      ]
    },
    {
      "cell_type": "code",
      "execution_count": 29,
      "id": "8e6aac42",
      "metadata": {},
      "outputs": [
        {
          "name": "stdout",
          "output_type": "stream",
          "text": [
            "313     Estancia de un solo día con mi marido y dos ni...\n",
            "7520    Estuve 4 noches. Muy cálido el ambiente del ho...\n",
            "5290    Magnífico hotel con una excelente ubicación. C...\n",
            "6218    Nos alojamos en este hotel de 5 estrellas gran...\n",
            "2754    La primera impresión fue un poco decepcionante...\n",
            "3876    Hotel con muchas deficiencias. El wifi no me f...\n",
            "1740    Es un hotel bien situado y aceptable, una buen...\n",
            "2893    Reservamos una habitación con cama doble que f...\n",
            "1513    Una cerveza 4 euros. No digo más. T cobran x l...\n",
            "5115    Es un hotel increible. Sus jardines, sus patio...\n",
            "Name: review_text, dtype: object\n",
            "313     Estancia de un solo día con mi marido y dos ni...\n",
            "7520    Estuve 4 noches. Muy cálido el ambiente del ho...\n",
            "5290    Magnífico hotel con una excelente ubicación. C...\n",
            "6218    Nos alojamos en este hotel de 5 estrellas gran...\n",
            "2754    La primera impresión fue un poco decepcionante...\n",
            "3876    Hotel con muchas deficiencias. El wifi no me f...\n",
            "1740    Es un hotel bien situado y aceptable, una buen...\n",
            "2893    Reservamos una habitación con cama doble que f...\n",
            "1513    Una cerveza 4 euros. No digo más. T cobran x l...\n",
            "5115    Es un hotel increible. Sus jardines, sus patio...\n",
            "Name: review_text, dtype: object\n"
          ]
        }
      ],
      "source": [
        "# Mostrar una muestra aleatoria de comentarios\n",
        "muestra_comentarios = datos_limpios['review_text'].sample(10, random_state=1)\n",
        "print(muestra_comentarios)\n",
        "# Mostrar una muestra aleatoria de comentarios\n",
        "muestra_comentarios = datos_limpios['review_text'].sample(10, random_state=1)\n",
        "print(muestra_comentarios)\n",
        "\n",
        "# TODO: Cuáles son los temas o patrones comunes?"
      ]
    },
    {
      "cell_type": "code",
      "execution_count": 30,
      "id": "f3d7beec",
      "metadata": {},
      "outputs": [
        {
          "name": "stderr",
          "output_type": "stream",
          "text": [
            "/var/folders/4r/258hym592n3dj3lrhvdy09m80000gn/T/ipykernel_5283/14066857.py:2: SettingWithCopyWarning: \n",
            "A value is trying to be set on a copy of a slice from a DataFrame.\n",
            "Try using .loc[row_indexer,col_indexer] = value instead\n",
            "\n",
            "See the caveats in the documentation: https://pandas.pydata.org/pandas-docs/stable/user_guide/indexing.html#returning-a-view-versus-a-copy\n",
            "  datos_limpios['longitud_comentario'] = datos_limpios['review_text'].apply(len)\n"
          ]
        },
        {
          "data": {
            "image/png": "[encoded data removed]",
            "text/plain": [
              "<Figure size 1000x600 with 1 Axes>"
            ]
          },
          "metadata": {},
          "output_type": "display_data"
        }
      ],
      "source": [
        "# Calcular las longitudes de los comentarios\n",
        "datos_limpios['longitud_comentario'] = datos_limpios['review_text'].apply(len)\n",
        "\n",
        "# Crear un histograma de las longitudes de los comentarios\n",
        "plt.figure(figsize=(10, 6))\n",
        "sns.histplot(datos_limpios['longitud_comentario'], bins=30, kde=True)\n",
        "plt.title('Distribución de las longitudes de los comentarios')\n",
        "plt.xlabel('Longitud del comentario')\n",
        "plt.ylabel('Frecuencia')\n",
        "plt.show()\n"
      ]
    },
    {
      "cell_type": "code",
      "execution_count": 31,
      "id": "6764b94b",
      "metadata": {},
      "outputs": [
        {
          "name": "stderr",
          "output_type": "stream",
          "text": [
            "/var/folders/4r/258hym592n3dj3lrhvdy09m80000gn/T/ipykernel_5283/3428683284.py:11: SettingWithCopyWarning: \n",
            "A value is trying to be set on a copy of a slice from a DataFrame.\n",
            "Try using .loc[row_indexer,col_indexer] = value instead\n",
            "\n",
            "See the caveats in the documentation: https://pandas.pydata.org/pandas-docs/stable/user_guide/indexing.html#returning-a-view-versus-a-copy\n",
            "  datos_limpios['sentimiento'] = datos_limpios['rating'].apply(clasificacion_sentimiento)\n",
            "/var/folders/4r/258hym592n3dj3lrhvdy09m80000gn/T/ipykernel_5283/3428683284.py:15: FutureWarning: \n",
            "\n",
            "Passing `palette` without assigning `hue` is deprecated and will be removed in v0.14.0. Assign the `x` variable to `hue` and set `legend=False` for the same effect.\n",
            "\n",
            "  sns.countplot(x='sentimiento', data=datos_limpios, palette='viridis')\n"
          ]
        },
        {
          "data": {
            "image/png": "[encoded data removed]",
            "text/plain": [
              "<Figure size 1000x600 with 1 Axes>"
            ]
          },
          "metadata": {},
          "output_type": "display_data"
        }
      ],
      "source": [
        "# Definir las clasificaciones como positivo (4-5), neutro (3) y negativo (1-2)\n",
        "def clasificacion_sentimiento(rating):\n",
        "    if rating >= 4:\n",
        "        return 'Positivo'\n",
        "    elif rating == 3:\n",
        "        return 'Neutro'\n",
        "    else:\n",
        "        return 'Negativo'\n",
        "\n",
        "# Aplicar la función de clasificación al dataset\n",
        "datos_limpios['sentimiento'] = datos_limpios['rating'].apply(clasificacion_sentimiento)\n",
        "\n",
        "# Crear un gráfico de barras para mostrar la distribución de las clasificaciones\n",
        "plt.figure(figsize=(10, 6))\n",
        "sns.countplot(x='sentimiento', data=datos_limpios, palette='viridis')\n",
        "plt.title('Distribución de las clasificaciones')\n",
        "plt.xlabel('Clasificación')\n",
        "plt.ylabel('Frecuencia')\n",
        "plt.show()\n"
      ]
    },
    {
      "cell_type": "markdown",
      "id": "496f8a1a",
      "metadata": {},
      "source": [
        "\n",
        "2. **Preprocesamiento de Datos**\n",
        "   - Extraiga y Tokenice los comentarios.\n",
        "   - Rellene secuencias para asegurar una longitud uniforme.\n",
        "   - Convierta los valores de rating en sentimientos (positivo, neutro, negativo) y codifíquelo en valores numéricos.\n"
      ]
    },
    {
      "cell_type": "code",
      "execution_count": 32,
      "id": "916cd658",
      "metadata": {},
      "outputs": [
        {
          "name": "stdout",
          "output_type": "stream",
          "text": [
            "[[5, 190, 1, 170, 44, 261, 3, 129, 556, 13, 149, 6, 37, 15, 12, 5, 190, 1, 293, 3, 2817, 56, 207, 13, 51, 3, 145, 97, 22, 2652, 7, 10, 2211, 66, 9243, 19, 15, 65, 22, 357, 4, 40, 74, 16, 293, 53, 4, 2, 151, 1, 256, 40, 9, 13455, 22, 608, 27, 65, 40, 266, 18, 4, 2413, 3, 1665, 56, 95, 370, 85, 14, 422, 1, 2, 214, 12, 447, 576, 18, 4, 4689, 4, 327, 113, 13456, 6, 2, 21, 1, 632, 1, 136, 8, 43, 1370, 5, 15, 1666, 3, 180, 160, 14, 734, 62, 63, 34, 14, 2818, 3646, 666, 3, 2819, 3413, 62, 18, 4, 256, 506, 2517, 207, 318, 16, 293, 1491, 6, 8, 165, 4, 5347, 35, 6047, 24, 56, 302, 17, 23, 447, 6048, 17, 359, 7573], [5, 15, 6, 211, 33, 27, 14, 13457, 46, 1038, 3, 5, 29, 11, 9, 67, 1371, 5, 1919, 19, 4283, 1492, 3, 2, 82, 3, 2, 86, 1, 2, 82, 11, 6049, 24, 43, 60, 354, 4284, 5, 576, 11, 4, 5, 308, 8, 2126, 27, 7, 2, 21, 53, 4, 20, 9244, 2311, 5, 735, 1920, 11, 4, 8, 20, 239, 1921, 153, 301, 4, 374, 10, 2212, 6050, 6, 112, 1, 13, 3647, 1922, 6, 175, 886, 6, 47], [5, 15, 11, 525, 437, 3, 80, 24, 8, 108, 1372, 476, 1, 2, 164, 65, 12, 146, 123, 8, 108, 1372, 293, 131, 2, 82, 57, 906, 1, 166, 3, 8, 2, 108, 1372, 895, 23, 695, 9, 288, 3, 2, 42, 236], [520, 5348, 62, 8, 13458, 20, 4285, 6, 45, 3, 8, 28, 388, 444, 13459, 3, 299, 52, 444, 3414, 409, 8, 11, 6051, 6, 278, 15, 24, 145, 6, 10, 15, 1, 64, 5349, 685], [37, 15, 73, 3415, 13460, 54, 2213, 174, 30, 46, 66, 13461, 3, 5, 934, 1493, 11, 4286, 8, 712, 781, 6, 5, 38, 3, 14, 219, 46, 996, 2, 104, 8, 43, 9245, 2820, 1, 9246, 10, 63, 144, 17, 559, 74, 68]]\n"
          ]
        }
      ],
      "source": [
        "from tensorflow.keras.preprocessing.text import Tokenizer\n",
        "\n",
        "# Convertir los comentarios a una lista para el tokenizador\n",
        "comentarios = datos_limpios['review_text'].tolist()\n",
        "\n",
        "# Inicializar el tokenizador\n",
        "tokenizer = Tokenizer()\n",
        "tokenizer.fit_on_texts(comentarios)\n",
        "\n",
        "# Convertir los textos a secuencias de enteros\n",
        "secuencias = tokenizer.texts_to_sequences(comentarios)\n",
        "\n",
        "# Mostrar una muestra de las secuencias tokenizadas\n",
        "print(secuencias[:5])\n"
      ]
    },
    {
      "cell_type": "code",
      "execution_count": 33,
      "id": "7946f0ee",
      "metadata": {},
      "outputs": [
        {
          "name": "stdout",
          "output_type": "stream",
          "text": [
            "[[   5  190    1 ...    0    0    0]\n",
            " [   5   15    6 ...    0    0    0]\n",
            " [   5   15   11 ...    0    0    0]\n",
            " [ 520 5348   62 ...    0    0    0]\n",
            " [  37   15   73 ...    0    0    0]]\n"
          ]
        }
      ],
      "source": [
        "from tensorflow.keras.preprocessing.sequence import pad_sequences\n",
        "\n",
        "# Determinar la longitud máxima de las secuencias\n",
        "longitud_maxima = max(len(secuencia) for secuencia in secuencias)\n",
        "\n",
        "# Rellenar las secuencias para que todas tengan la misma longitud\n",
        "secuencias_padded = pad_sequences(secuencias, maxlen=longitud_maxima, padding='post')\n",
        "\n",
        "# Mostrar una muestra de las secuencias rellenadas\n",
        "print(secuencias_padded[:5])\n"
      ]
    },
    {
      "cell_type": "code",
      "execution_count": 34,
      "id": "8a795ed5",
      "metadata": {},
      "outputs": [
        {
          "name": "stdout",
          "output_type": "stream",
          "text": [
            "   rating sentimiento  sentimiento_numerico\n",
            "0       2    Negativo                     0\n",
            "1       3      Neutro                     1\n",
            "2       3      Neutro                     1\n",
            "3       2    Negativo                     0\n",
            "4       2    Negativo                     0\n"
          ]
        },
        {
          "name": "stderr",
          "output_type": "stream",
          "text": [
            "/var/folders/4r/258hym592n3dj3lrhvdy09m80000gn/T/ipykernel_5283/3944574856.py:13: SettingWithCopyWarning: \n",
            "A value is trying to be set on a copy of a slice from a DataFrame.\n",
            "Try using .loc[row_indexer,col_indexer] = value instead\n",
            "\n",
            "See the caveats in the documentation: https://pandas.pydata.org/pandas-docs/stable/user_guide/indexing.html#returning-a-view-versus-a-copy\n",
            "  datos_limpios['sentimiento'] = datos_limpios['rating'].apply(clasificacion_sentimiento)\n",
            "/var/folders/4r/258hym592n3dj3lrhvdy09m80000gn/T/ipykernel_5283/3944574856.py:17: SettingWithCopyWarning: \n",
            "A value is trying to be set on a copy of a slice from a DataFrame.\n",
            "Try using .loc[row_indexer,col_indexer] = value instead\n",
            "\n",
            "See the caveats in the documentation: https://pandas.pydata.org/pandas-docs/stable/user_guide/indexing.html#returning-a-view-versus-a-copy\n",
            "  datos_limpios['sentimiento_numerico'] = encoder.fit_transform(datos_limpios['sentimiento'])\n"
          ]
        }
      ],
      "source": [
        "from sklearn.preprocessing import LabelEncoder\n",
        "\n",
        "# Aplicar la función de clasificación al dataset\n",
        "datos_limpios['sentimiento'] = datos_limpios['rating'].apply(clasificacion_sentimiento)\n",
        "\n",
        "# Codificar los sentimientos en valores numéricos\n",
        "encoder = LabelEncoder()\n",
        "datos_limpios['sentimiento_numerico'] = encoder.fit_transform(datos_limpios['sentimiento'])\n",
        "\n",
        "# Mostrar una muestra de los sentimientos codificados\n",
        "print(datos_limpios[['rating', 'sentimiento', 'sentimiento_numerico']].head())\n"
      ]
    },
    {
      "cell_type": "markdown",
      "id": "9b833c4d",
      "metadata": {},
      "source": [
        "\n",
        "3. **Construcción del Modelo RNN**\n",
        "   - Cree un modelo secuencial.\n",
        "   - Agregue capas de incrustación (embedding) para procesar las palabras tokenizadas.\n",
        "   - Implemente capas LSTM o GRU para la parte recurrente.\n",
        "   - Diseñe la capa de salida adecuada para un problema de clasificación de tres clases."
      ]
    },
    {
      "cell_type": "code",
      "execution_count": 35,
      "id": "e9ea1bcd",
      "metadata": {},
      "outputs": [],
      "source": [
        "from tensorflow.keras.models import Sequential\n",
        "from tensorflow.keras.layers import Embedding, LSTM, Dense, SpatialDropout1D\n",
        "from tensorflow.keras.optimizers import Adam\n",
        "from tensorflow.keras.preprocessing.sequence import pad_sequences\n",
        "from sklearn.model_selection import train_test_split\n",
        "from tensorflow.keras.utils import to_categorical\n"
      ]
    },
    {
      "cell_type": "code",
      "execution_count": 36,
      "id": "dc4f9eb5",
      "metadata": {},
      "outputs": [],
      "source": [
        "\n",
        "# Convertir las etiquetas a una forma categórica para la clasificación de tres clases\n",
        "etiquetas_categoricas = to_categorical(datos_limpios['sentimiento_numerico'], num_classes=3)\n"
      ]
    },
    {
      "cell_type": "code",
      "execution_count": 37,
      "id": "beec28fc",
      "metadata": {},
      "outputs": [
        {
          "name": "stderr",
          "output_type": "stream",
          "text": [
            "/Library/Frameworks/Python.framework/Versions/3.12/lib/python3.12/site-packages/keras/src/layers/core/embedding.py:90: UserWarning: Argument `input_length` is deprecated. Just remove it.\n",
            "  warnings.warn(\n"
          ]
        },
        {
          "data": {
            "text/html": [
              "<pre style=\"white-space:pre;overflow-x:auto;line-height:normal;font-family:Menlo,'DejaVu Sans Mono',consolas,'Courier New',monospace\"><span style=\"font-weight: bold\">Model: \"sequential_2\"</span>\n",
              "</pre>\n"
            ],
            "text/plain": [
              "\u001b[1mModel: \"sequential_2\"\u001b[0m\n"
            ]
          },
          "metadata": {},
          "output_type": "display_data"
        },
        {
          "data": {
            "text/html": [
              "<pre style=\"white-space:pre;overflow-x:auto;line-height:normal;font-family:Menlo,'DejaVu Sans Mono',consolas,'Courier New',monospace\">┏━━━━━━━━━━━━━━━━━━━━━━━━━━━━━━━━━┳━━━━━━━━━━━━━━━━━━━━━━━━┳━━━━━━━━━━━━━━━┓\n",
              "┃<span style=\"font-weight: bold\"> Layer (type)                    </span>┃<span style=\"font-weight: bold\"> Output Shape           </span>┃<span style=\"font-weight: bold\">       Param # </span>┃\n",
              "┡━━━━━━━━━━━━━━━━━━━━━━━━━━━━━━━━━╇━━━━━━━━━━━━━━━━━━━━━━━━╇━━━━━━━━━━━━━━━┩\n",
              "│ embedding_2 (<span style=\"color: #0087ff; text-decoration-color: #0087ff\">Embedding</span>)         │ ?                      │   <span style=\"color: #00af00; text-decoration-color: #00af00\">0</span> (unbuilt) │\n",
              "├─────────────────────────────────┼────────────────────────┼───────────────┤\n",
              "│ spatial_dropout1d_2             │ ?                      │   <span style=\"color: #00af00; text-decoration-color: #00af00\">0</span> (unbuilt) │\n",
              "│ (<span style=\"color: #0087ff; text-decoration-color: #0087ff\">SpatialDropout1D</span>)              │                        │               │\n",
              "├─────────────────────────────────┼────────────────────────┼───────────────┤\n",
              "│ lstm_2 (<span style=\"color: #0087ff; text-decoration-color: #0087ff\">LSTM</span>)                   │ ?                      │   <span style=\"color: #00af00; text-decoration-color: #00af00\">0</span> (unbuilt) │\n",
              "├─────────────────────────────────┼────────────────────────┼───────────────┤\n",
              "│ dense_2 (<span style=\"color: #0087ff; text-decoration-color: #0087ff\">Dense</span>)                 │ ?                      │   <span style=\"color: #00af00; text-decoration-color: #00af00\">0</span> (unbuilt) │\n",
              "└─────────────────────────────────┴────────────────────────┴───────────────┘\n",
              "</pre>\n"
            ],
            "text/plain": [
              "┏━━━━━━━━━━━━━━━━━━━━━━━━━━━━━━━━━┳━━━━━━━━━━━━━━━━━━━━━━━━┳━━━━━━━━━━━━━━━┓\n",
              "┃\u001b[1m \u001b[0m\u001b[1mLayer (type)                   \u001b[0m\u001b[1m \u001b[0m┃\u001b[1m \u001b[0m\u001b[1mOutput Shape          \u001b[0m\u001b[1m \u001b[0m┃\u001b[1m \u001b[0m\u001b[1m      Param #\u001b[0m\u001b[1m \u001b[0m┃\n",
              "┡━━━━━━━━━━━━━━━━━━━━━━━━━━━━━━━━━╇━━━━━━━━━━━━━━━━━━━━━━━━╇━━━━━━━━━━━━━━━┩\n",
              "│ embedding_2 (\u001b[38;5;33mEmbedding\u001b[0m)         │ ?                      │   \u001b[38;5;34m0\u001b[0m (unbuilt) │\n",
              "├─────────────────────────────────┼────────────────────────┼───────────────┤\n",
              "│ spatial_dropout1d_2             │ ?                      │   \u001b[38;5;34m0\u001b[0m (unbuilt) │\n",
              "│ (\u001b[38;5;33mSpatialDropout1D\u001b[0m)              │                        │               │\n",
              "├─────────────────────────────────┼────────────────────────┼───────────────┤\n",
              "│ lstm_2 (\u001b[38;5;33mLSTM\u001b[0m)                   │ ?                      │   \u001b[38;5;34m0\u001b[0m (unbuilt) │\n",
              "├─────────────────────────────────┼────────────────────────┼───────────────┤\n",
              "│ dense_2 (\u001b[38;5;33mDense\u001b[0m)                 │ ?                      │   \u001b[38;5;34m0\u001b[0m (unbuilt) │\n",
              "└─────────────────────────────────┴────────────────────────┴───────────────┘\n"
            ]
          },
          "metadata": {},
          "output_type": "display_data"
        },
        {
          "data": {
            "text/html": [
              "<pre style=\"white-space:pre;overflow-x:auto;line-height:normal;font-family:Menlo,'DejaVu Sans Mono',consolas,'Courier New',monospace\"><span style=\"font-weight: bold\"> Total params: </span><span style=\"color: #00af00; text-decoration-color: #00af00\">0</span> (0.00 B)\n",
              "</pre>\n"
            ],
            "text/plain": [
              "\u001b[1m Total params: \u001b[0m\u001b[38;5;34m0\u001b[0m (0.00 B)\n"
            ]
          },
          "metadata": {},
          "output_type": "display_data"
        },
        {
          "data": {
            "text/html": [
              "<pre style=\"white-space:pre;overflow-x:auto;line-height:normal;font-family:Menlo,'DejaVu Sans Mono',consolas,'Courier New',monospace\"><span style=\"font-weight: bold\"> Trainable params: </span><span style=\"color: #00af00; text-decoration-color: #00af00\">0</span> (0.00 B)\n",
              "</pre>\n"
            ],
            "text/plain": [
              "\u001b[1m Trainable params: \u001b[0m\u001b[38;5;34m0\u001b[0m (0.00 B)\n"
            ]
          },
          "metadata": {},
          "output_type": "display_data"
        },
        {
          "data": {
            "text/html": [
              "<pre style=\"white-space:pre;overflow-x:auto;line-height:normal;font-family:Menlo,'DejaVu Sans Mono',consolas,'Courier New',monospace\"><span style=\"font-weight: bold\"> Non-trainable params: </span><span style=\"color: #00af00; text-decoration-color: #00af00\">0</span> (0.00 B)\n",
              "</pre>\n"
            ],
            "text/plain": [
              "\u001b[1m Non-trainable params: \u001b[0m\u001b[38;5;34m0\u001b[0m (0.00 B)\n"
            ]
          },
          "metadata": {},
          "output_type": "display_data"
        }
      ],
      "source": [
        "# Número máximo de palabras en el tokenizador\n",
        "num_palabras = len(tokenizer.word_index) + 1 \n",
        "\n",
        "# Crear el modelo\n",
        "modelo = Sequential()\n",
        "\n",
        "# Agregar la capa de incrustación (embedding)\n",
        "modelo.add(Embedding(input_dim=num_palabras, output_dim=128, input_length=longitud_maxima))\n",
        "modelo.add(SpatialDropout1D(0.2))\n",
        "\n",
        "# Agregar las capas LSTM\n",
        "modelo.add(LSTM(128, dropout=0.2, recurrent_dropout=0.2))\n",
        "\n",
        "# Agregar la capa de salida (Softmax para clasificación en tres clases)\n",
        "modelo.add(Dense(3, activation='softmax'))\n",
        "\n",
        "# Compilar el modelo\n",
        "modelo.compile(loss='categorical_crossentropy', optimizer=Adam(learning_rate=0.001), metrics=['accuracy'])\n",
        "\n",
        "# Resumen del modelo\n",
        "modelo.summary()\n"
      ]
    },
    {
      "cell_type": "markdown",
      "id": "2f4f3dbb",
      "metadata": {},
      "source": [
        "\n",
        "4. **Entrenamiento y Evaluación del Modelo**\n",
        "   - Divida el conjunto de datos en entrenamiento, validación y prueba.\n",
        "   - Entrene el modelo y valide su rendimiento.\n",
        "   - Pruebe el modelo en el conjunto de prueba e interprete los resultados."
      ]
    },
    {
      "cell_type": "code",
      "execution_count": 38,
      "id": "45801695",
      "metadata": {},
      "outputs": [
        {
          "name": "stdout",
          "output_type": "stream",
          "text": [
            "Tamaño del conjunto de entrenamiento: (5523, 560)\n",
            "Tamaño del conjunto de validación: (614, 560)\n",
            "Tamaño del conjunto de prueba: (682, 560)\n"
          ]
        }
      ],
      "source": [
        "# Dividir los datos en entrenamiento (80%), validación (10%) y prueba (10%)\n",
        "X_temp, X_test, y_temp, y_test = train_test_split(secuencias_padded, etiquetas_categoricas, test_size=0.1, random_state=42)\n",
        "X_train, X_valid, y_train, y_valid = train_test_split(X_temp, y_temp, test_size=0.1, random_state=42)\n",
        "\n",
        "print(\"Tamaño del conjunto de entrenamiento:\", X_train.shape)\n",
        "print(\"Tamaño del conjunto de validación:\", X_valid.shape)\n",
        "print(\"Tamaño del conjunto de prueba:\", X_test.shape)\n"
      ]
    },
    {
      "cell_type": "code",
      "execution_count": 39,
      "id": "4cb8af08",
      "metadata": {},
      "outputs": [
        {
          "name": "stdout",
          "output_type": "stream",
          "text": [
            "Epoch 1/10\n",
            "\u001b[1m87/87\u001b[0m \u001b[32m━━━━━━━━━━━━━━━━━━━━\u001b[0m\u001b[37m\u001b[0m \u001b[1m41s\u001b[0m 443ms/step - accuracy: 0.3833 - loss: 1.0943 - val_accuracy: 0.4023 - val_loss: 1.0869\n",
            "Epoch 2/10\n",
            "\u001b[1m87/87\u001b[0m \u001b[32m━━━━━━━━━━━━━━━━━━━━\u001b[0m\u001b[37m\u001b[0m \u001b[1m40s\u001b[0m 462ms/step - accuracy: 0.3946 - loss: 1.0903 - val_accuracy: 0.4023 - val_loss: 1.0874\n",
            "Epoch 3/10\n",
            "\u001b[1m87/87\u001b[0m \u001b[32m━━━━━━━━━━━━━━━━━━━━\u001b[0m\u001b[37m\u001b[0m \u001b[1m40s\u001b[0m 460ms/step - accuracy: 0.4034 - loss: 1.0877 - val_accuracy: 0.4023 - val_loss: 1.0890\n",
            "Epoch 4/10\n",
            "\u001b[1m87/87\u001b[0m \u001b[32m━━━━━━━━━━━━━━━━━━━━\u001b[0m\u001b[37m\u001b[0m \u001b[1m39s\u001b[0m 444ms/step - accuracy: 0.4034 - loss: 1.0898 - val_accuracy: 0.4023 - val_loss: 1.0875\n",
            "Epoch 5/10\n",
            "\u001b[1m87/87\u001b[0m \u001b[32m━━━━━━━━━━━━━━━━━━━━\u001b[0m\u001b[37m\u001b[0m \u001b[1m39s\u001b[0m 445ms/step - accuracy: 0.4019 - loss: 1.0886 - val_accuracy: 0.4023 - val_loss: 1.0887\n",
            "Epoch 6/10\n",
            "\u001b[1m87/87\u001b[0m \u001b[32m━━━━━━━━━━━━━━━━━━━━\u001b[0m\u001b[37m\u001b[0m \u001b[1m39s\u001b[0m 444ms/step - accuracy: 0.3941 - loss: 1.0911 - val_accuracy: 0.4023 - val_loss: 1.0868\n",
            "Epoch 7/10\n",
            "\u001b[1m87/87\u001b[0m \u001b[32m━━━━━━━━━━━━━━━━━━━━\u001b[0m\u001b[37m\u001b[0m \u001b[1m39s\u001b[0m 445ms/step - accuracy: 0.3981 - loss: 1.0883 - val_accuracy: 0.4023 - val_loss: 1.0877\n",
            "Epoch 8/10\n",
            "\u001b[1m87/87\u001b[0m \u001b[32m━━━━━━━━━━━━━━━━━━━━\u001b[0m\u001b[37m\u001b[0m \u001b[1m39s\u001b[0m 450ms/step - accuracy: 0.3952 - loss: 1.0906 - val_accuracy: 0.4023 - val_loss: 1.0867\n",
            "Epoch 9/10\n",
            "\u001b[1m87/87\u001b[0m \u001b[32m━━━━━━━━━━━━━━━━━━━━\u001b[0m\u001b[37m\u001b[0m \u001b[1m40s\u001b[0m 464ms/step - accuracy: 0.3907 - loss: 1.0912 - val_accuracy: 0.4023 - val_loss: 1.0878\n",
            "Epoch 10/10\n",
            "\u001b[1m87/87\u001b[0m \u001b[32m━━━━━━━━━━━━━━━━━━━━\u001b[0m\u001b[37m\u001b[0m \u001b[1m41s\u001b[0m 476ms/step - accuracy: 0.4038 - loss: 1.0881 - val_accuracy: 0.4023 - val_loss: 1.0891\n"
          ]
        }
      ],
      "source": [
        "# Ajustar el modelo con los datos de entrenamiento y validación\n",
        "historial = modelo.fit(X_train, y_train, epochs=10, batch_size=64, validation_data=(X_valid, y_valid), verbose=1)\n"
      ]
    },
    {
      "cell_type": "code",
      "execution_count": 40,
      "id": "8ab25740",
      "metadata": {},
      "outputs": [
        {
          "name": "stdout",
          "output_type": "stream",
          "text": [
            "\u001b[1m22/22\u001b[0m \u001b[32m━━━━━━━━━━━━━━━━━━━━\u001b[0m\u001b[37m\u001b[0m \u001b[1m2s\u001b[0m 103ms/step - accuracy: 0.3527 - loss: 1.0991\n",
            "Pérdida en el conjunto de prueba: 1.0964313745498657\n",
            "Precisión en el conjunto de prueba: 0.366568922996521\n",
            "\u001b[1m22/22\u001b[0m \u001b[32m━━━━━━━━━━━━━━━━━━━━\u001b[0m\u001b[37m\u001b[0m \u001b[1m3s\u001b[0m 112ms/step\n",
            "Matriz de Confusión:\n",
            "[[  0   0 216]\n",
            " [  0   0 216]\n",
            " [  0   0 250]]\n",
            "Reporte de Clasificación:\n",
            "              precision    recall  f1-score   support\n",
            "\n",
            "    Negativo       0.00      0.00      0.00       216\n",
            "      Neutro       0.00      0.00      0.00       216\n",
            "    Positivo       0.37      1.00      0.54       250\n",
            "\n",
            "    accuracy                           0.37       682\n",
            "   macro avg       0.12      0.33      0.18       682\n",
            "weighted avg       0.13      0.37      0.20       682\n",
            "\n"
          ]
        },
        {
          "name": "stderr",
          "output_type": "stream",
          "text": [
            "/Library/Frameworks/Python.framework/Versions/3.12/lib/python3.12/site-packages/sklearn/metrics/_classification.py:1509: UndefinedMetricWarning: Precision is ill-defined and being set to 0.0 in labels with no predicted samples. Use `zero_division` parameter to control this behavior.\n",
            "  _warn_prf(average, modifier, f\"{metric.capitalize()} is\", len(result))\n",
            "/Library/Frameworks/Python.framework/Versions/3.12/lib/python3.12/site-packages/sklearn/metrics/_classification.py:1509: UndefinedMetricWarning: Precision is ill-defined and being set to 0.0 in labels with no predicted samples. Use `zero_division` parameter to control this behavior.\n",
            "  _warn_prf(average, modifier, f\"{metric.capitalize()} is\", len(result))\n",
            "/Library/Frameworks/Python.framework/Versions/3.12/lib/python3.12/site-packages/sklearn/metrics/_classification.py:1509: UndefinedMetricWarning: Precision is ill-defined and being set to 0.0 in labels with no predicted samples. Use `zero_division` parameter to control this behavior.\n",
            "  _warn_prf(average, modifier, f\"{metric.capitalize()} is\", len(result))\n"
          ]
        }
      ],
      "source": [
        "# Evaluar el modelo en el conjunto de prueba\n",
        "perdida, precision = modelo.evaluate(X_test, y_test, verbose=1)\n",
        "\n",
        "print(\"Pérdida en el conjunto de prueba:\", perdida)\n",
        "print(\"Precisión en el conjunto de prueba:\", precision)\n",
        "\n",
        "# Hacer predicciones en el conjunto de prueba\n",
        "predicciones = modelo.predict(X_test)\n",
        "predicciones_clases = predicciones.argmax(axis=1)\n",
        "y_test_clases = y_test.argmax(axis=1)\n",
        "\n",
        "# Mostrar la matriz de confusión y el reporte de clasificación para interpretar los resultados\n",
        "from sklearn.metrics import confusion_matrix, classification_report\n",
        "\n",
        "# Matriz de confusión\n",
        "matriz_confusion = confusion_matrix(y_test_clases, predicciones_clases)\n",
        "print(\"Matriz de Confusión:\")\n",
        "print(matriz_confusion)\n",
        "\n",
        "# Reporte de clasificación\n",
        "reporte_clasificacion = classification_report(y_test_clases, predicciones_clases, target_names=['Negativo', 'Neutro', 'Positivo'])\n",
        "print(\"Reporte de Clasificación:\")\n",
        "print(reporte_clasificacion)\n"
      ]
    },
    {
      "cell_type": "markdown",
      "id": "61930b76",
      "metadata": {},
      "source": [
        "\n",
        "5. **Análisis y Recomendaciones Empresariales**\n",
        "   - Analice las clasificaciones incorrectas. ¿Existen ciertos tipos de comentarios con los que el modelo tiene dificultades?\n",
        "   - ¿Cómo puede la empresa utilizar los resultados del modelo para mejorar sus servicios o productos?\n",
        "   - ¿Cuáles son las posibles limitaciones de confiar en este modelo para tomar decisiones comerciales?\n"
      ]
    },
    {
      "cell_type": "code",
      "execution_count": null,
      "id": "b196a41a",
      "metadata": {},
      "outputs": [],
      "source": []
    },
    {
      "cell_type": "markdown",
      "id": "2facee7e",
      "metadata": {},
      "source": [
        "\n",
        "6. **Presentación**\n",
        "   - Prepare una presentación de su análisis, resultados y recomendaciones.\n",
        "   - Asegúrese de interpretar los resultados en un contexto empresarial.\n"
      ]
    }
  ],
  "metadata": {
    "colab": {
      "provenance": []
    },
    "kernelspec": {
      "display_name": "Python 3 (ipykernel)",
      "language": "python",
      "name": "python3"
    },
    "language_info": {
      "codemirror_mode": {
        "name": "ipython",
        "version": 3
      },
      "file_extension": ".py",
      "mimetype": "text/x-python",
      "name": "python",
      "nbconvert_exporter": "python",
      "pygments_lexer": "ipython3",
      "version": "3.12.2"
    }
  },
  "nbformat": 4,
  "nbformat_minor": 5
}
