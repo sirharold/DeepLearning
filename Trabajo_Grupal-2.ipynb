{
  "cells": [
    {
      "cell_type": "markdown",
      "id": "4ff55140-816b-4ba8-a776-454c6f2732af",
      "metadata": {
        "id": "4ff55140-816b-4ba8-a776-454c6f2732af"
      },
      "source": [
        "# Actividad en Grupo: Análisis de Comentarios de Clientes Utilizando Redes Neuronales Recurrentes (RNN)\n",
        "\n",
        "## Escenario\n",
        "Su equipo ha sido contratado por una empresa de turismo que desea categorizar automáticamente los comentarios de sus clientes en función de los sentimientos: positivos, neutrales o negativos. La empresa ha proporcionado un conjunto de datos de comentarios y clasificaciones (rating) de clientes para que su equipo lo analice.\n",
        "\n",
        "## Objetivo\n",
        "Utilizar Redes Neuronales Recurrentes (RNN) para crear un modelo de análisis de sentimientos. Su tarea también implica interpretar los resultados para obtener conocimientos empresariales accionables.\n",
        "\n",
        "## Tareas\n",
        "\n",
        "1. **Exploración de Datos**\n",
        "   - Revise una muestra de comentarios. ¿Cuáles son los temas o patrones comunes?\n",
        "   - Visualice la distribución de longitudes de los comentarios.\n",
        "   - Visualice la distribución de las clasificaciones (positivo, neutro, negativo).\n",
        "\n",
        "2. **Preprocesamiento de Datos**\n",
        "   - Extraiga y Tokenice los comentarios.\n",
        "   - Rellene secuencias para asegurar una longitud uniforme.\n",
        "   - Convierta los valores de rating en sentimientos (positivo, neutro, negativo) y codifíquelo en valores numéricos.\n",
        "\n",
        "3. **Construcción del Modelo RNN**\n",
        "   - Cree un modelo secuencial.\n",
        "   - Agregue capas de incrustación (embedding) para procesar las palabras tokenizadas.\n",
        "   - Implemente capas LSTM o GRU para la parte recurrente.\n",
        "   - Diseñe la capa de salida adecuada para un problema de clasificación de tres clases.\n",
        "\n",
        "4. **Entrenamiento y Evaluación del Modelo**\n",
        "   - Divida el conjunto de datos en entrenamiento, validación y prueba.\n",
        "   - Entrene el modelo y valide su rendimiento.\n",
        "   - Pruebe el modelo en el conjunto de prueba e interprete los resultados.\n",
        "\n",
        "5. **Análisis y Recomendaciones Empresariales**\n",
        "   - Analice las clasificaciones incorrectas. ¿Existen ciertos tipos de comentarios con los que el modelo tiene dificultades?\n",
        "   - ¿Cómo puede la empresa utilizar los resultados del modelo para mejorar sus servicios o productos?\n",
        "   - ¿Cuáles son las posibles limitaciones de confiar en este modelo para tomar decisiones comerciales?\n",
        "\n",
        "6. **Presentación**\n",
        "   - Prepare una presentación de su análisis, resultados y recomendaciones.\n",
        "   - Asegúrese de interpretar los resultados en un contexto empresarial.\n",
        "\n",
        "## Entregables\n",
        "- Un cuaderno Jupyter que contenga todo su código, visualizaciones e interpretaciones, entregado antes del viernes 6 de septiembre a las 14:00 horas.\n",
        "- Una presentación que resuma el trabajo realizado, hallazgos y recomendaciones, a realizarse el día 6 de septiembre al comienzo del segundo bloque (19:00 aprox.). La presentación no debe exceder los 20 minutos. Quiénes y cuántos miembros del equipo presentan queda a criterio del grupo, pero todos deben estar preparados para responder preguntas.\n",
        "\n",
        "## Equipos de trabajo\n",
        "Deberán formar equipos de 4 o 5 personas. La conformación de los grupos deberá ser informada por correo electrónico a más tardar el día viernes 30 de agosto.\n"
      ]
    },
    {
      "cell_type": "markdown",
      "id": "c7d2b4fd-73d7-4142-ba05-16c49c44bc95",
      "metadata": {
        "id": "c7d2b4fd-73d7-4142-ba05-16c49c44bc95"
      },
      "source": [
        "# Rúbrica de Evaluación: Análisis de Comentarios de Clientes con RNN\n",
        "\n",
        "## Entrega a Tiempo [10 puntos]:\n",
        "- **10 puntos**: El cuaderno Jupyter se entregó en la fecha y hora especificadas.\n",
        "- **0 puntos**: El cuaderno Jupyter se entregó después de la fecha y hora límite.\n",
        "\n",
        "## Funcionalidad del Cuaderno [10 puntos]:\n",
        "- **10 puntos**: El cuaderno Jupyter se ejecuta de principio a fin sin errores.\n",
        "- **0 puntos**: El cuaderno Jupyter presenta errores al ejecutarse.\n",
        "\n",
        "## Preprocesamiento de Datos [20 puntos]:\n",
        "- **10 puntos**: Datos cargados correctamente.\n",
        "- **5 puntos**: Comentarios tokenizados y secuencias rellenadas adecuadamente.\n",
        "- **5 puntos**: Sentimientos codificados correctamente en formato numérico.\n",
        "\n",
        "## Construcción del Modelo RNN [10 puntos]:\n",
        "- **5 puntos**: Capas de incrustación y capas recurrentes implementadas adecuadamente.\n",
        "- **5 puntos**: Selección adecuada de funciones de activación y otras configuraciones de capa.\n",
        "\n",
        "## Compilación y Entrenamiento del Modelo [20 puntos]:\n",
        "- **5 puntos**: Modelo compilado con optimizador, función de pérdida y métricas apropiadas.\n",
        "- **10 puntos**: Modelo entrenado en datos de entrenamiento y validación, con gráficos que muestran el rendimiento a lo largo de las épocas.\n",
        "- **5 puntos**: Uso de técnicas como callbacks (`EarlyStopping`, por ejemplo) si es necesario.\n",
        "\n",
        "## Evaluación del Modelo [10 puntos]:\n",
        "- **10 puntos**: Evaluación adecuada en el conjunto de datos de prueba, con métricas de rendimiento reportadas.\n",
        "\n",
        "## Análisis y Recomendaciones [10 puntos]:\n",
        "- **10 puntos**: Análisis claro y conciso de las clasificaciones incorrectas y las implicaciones comerciales.\n",
        "- **0 puntos**: Falta de análisis o comprensión de los resultados.\n",
        "\n",
        "## Presentación [20 puntos]:\n",
        "- **5 puntos**: Estructura y organización clara de la presentación.\n",
        "- **10 puntos**: Presentación efectiva de resultados y conclusiones.\n",
        "- **5 puntos**: Reflexión sobre desafíos y posibles mejoras.\n",
        "\n"
      ]
    },
    {
      "cell_type": "code",
      "execution_count": null,
      "id": "225ac22d-89e6-401b-beb0-dc6e8746e4ea",
      "metadata": {
        "id": "225ac22d-89e6-401b-beb0-dc6e8746e4ea"
      },
      "outputs": [],
      "source": []
    }
  ],
  "metadata": {
    "kernelspec": {
      "display_name": "Python 3 (ipykernel)",
      "language": "python",
      "name": "python3"
    },
    "language_info": {
      "codemirror_mode": {
        "name": "ipython",
        "version": 3
      },
      "file_extension": ".py",
      "mimetype": "text/x-python",
      "name": "python",
      "nbconvert_exporter": "python",
      "pygments_lexer": "ipython3",
      "version": "3.10.12"
    },
    "colab": {
      "provenance": []
    }
  },
  "nbformat": 4,
  "nbformat_minor": 5
}